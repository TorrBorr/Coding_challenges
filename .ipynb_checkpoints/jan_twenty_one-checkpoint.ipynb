{
 "cells": [
  {
   "cell_type": "markdown",
   "metadata": {},
   "source": [
    "My friend John likes to go to the cinema. He can choose between system A and system B.\n",
    "\n",
    "System A : buy a ticket (15 dollars) every time\n",
    "System B : buy a card (500 dollars) and every time \n",
    "    buy a ticket the price of which is 0.90 times the price he paid for the previous one.\n",
    "#Example: If John goes to the cinema 3 times:\n",
    "\n",
    "System A : 15 * 3 = 45\n",
    "System B : 500 + 15 * 0.90 + (15 * 0.90) * 0.90 + (15 * 0.90 * 0.90) * 0.90 ( = 536.5849999999999, no rounding for each ticket)\n",
    "John wants to know how many times he must go to the cinema so that the final result of System B, when rounded up to the next dollar, will be cheaper than System A.\n",
    "\n",
    "The function movie has 3 parameters: card (price of the card), ticket (normal price of a ticket), perc (fraction of what he paid for the previous ticket) and returns the first n such that\n",
    "\n",
    "ceil(price of System B) < price of System A.\n",
    "More examples:\n",
    "\n",
    "movie(500, 15, 0.9) should return 43 \n",
    "    (with card the total price is 634, with tickets 645)\n",
    "movie(100, 10, 0.95) should return 24 \n",
    "    (with card the total price is 235, with tickets 240)"
   ]
  },
  {
   "cell_type": "code",
   "execution_count": 67,
   "metadata": {
    "collapsed": true
   },
   "outputs": [],
   "source": [
    "# My code\n",
    "\n",
    "from math import ceil\n",
    "\n",
    "def movie(card, ticket, perc):\n",
    "    ticket_num = 0         #initialize the number of tickets purchased\n",
    "    card_ticket_cost = 0   #initialise the additional costs of tickets for system b\n",
    "    system_a_cost = 0      #initialize system a cost at 0\n",
    "    system_b_cost = card   #initialize system b at the cost of the card\n",
    "    \n",
    "    while system_a_cost <= system_b_cost:\n",
    "        ticket_num=ticket_num+1                                   #add another ticket\n",
    "        card_ticket_cost = card_ticket_cost + ticket*(perc**(ticket_num))\n",
    "        system_a_cost = ceil(ticket*ticket_num)                   #calculte the cost with system a\n",
    "        system_b_cost = ceil(card + card_ticket_cost)             #calculate the cost of system b\n",
    "\n",
    "    return ticket_num "
   ]
  },
  {
   "cell_type": "code",
   "execution_count": 68,
   "metadata": {
    "collapsed": false
   },
   "outputs": [
    {
     "data": {
      "text/plain": [
       "43"
      ]
     },
     "execution_count": 68,
     "metadata": {},
     "output_type": "execute_result"
    }
   ],
   "source": [
    "movie(500, 15, 0.9)"
   ]
  },
  {
   "cell_type": "code",
   "execution_count": 69,
   "metadata": {
    "collapsed": false
   },
   "outputs": [
    {
     "data": {
      "text/plain": [
       "24"
      ]
     },
     "execution_count": 69,
     "metadata": {},
     "output_type": "execute_result"
    }
   ],
   "source": [
    "movie(100, 10, 0.95)"
   ]
  },
  {
   "cell_type": "code",
   "execution_count": 70,
   "metadata": {
    "collapsed": false
   },
   "outputs": [
    {
     "data": {
      "text/plain": [
       "2"
      ]
     },
     "execution_count": 70,
     "metadata": {},
     "output_type": "execute_result"
    }
   ],
   "source": [
    "movie(0, 10, 0.95)"
   ]
  },
  {
   "cell_type": "markdown",
   "metadata": {},
   "source": [
    "Other better answers:"
   ]
  },
  {
   "cell_type": "code",
   "execution_count": 45,
   "metadata": {
    "collapsed": true
   },
   "outputs": [],
   "source": [
    "from math import ceil\n",
    "\n",
    "def movie(card, ticket, rate):\n",
    "    count = 0\n",
    "    totalA = 0.0\n",
    "    totalB = 0.0\n",
    "    \n",
    "    while (ceil(card + totalB) >= totalA):\n",
    "        totalA += ticket\n",
    "        totalB = (totalB + ticket) * rate\n",
    "        count += 1\n",
    "\n",
    "    return count"
   ]
  },
  {
   "cell_type": "code",
   "execution_count": 78,
   "metadata": {
    "collapsed": false
   },
   "outputs": [],
   "source": [
    "import math \n",
    "\n",
    "def movie(card, ticket, perc):\n",
    "    num = 0\n",
    "    priceA = 0\n",
    "    priceB = card\n",
    " \n",
    "    while math.ceil(priceB) >= priceA:\n",
    "        num    += 1\n",
    "        priceA += ticket\n",
    "        priceB += ticket * (perc ** num)\n",
    "  \n",
    "    return num"
   ]
  },
  {
   "cell_type": "code",
   "execution_count": 72,
   "metadata": {
    "collapsed": true
   },
   "outputs": [],
   "source": [
    "from itertools import count\n",
    "from math import ceil\n",
    "def movie(card, ticket, perc):\n",
    "    return next(n for n in count(1) if ceil(card + ticket * perc * (1 - perc ** n) / (1 - perc)) < ticket * n)"
   ]
  },
  {
   "cell_type": "markdown",
   "metadata": {},
   "source": [
    "There are some things I like better about mine: \n",
    "- The method of calculating totals of a and b are more transparent to someone unfamiliar with the code. \n",
    "\n",
    "Things I dont like:\n",
    "- Multiple initializations\n",
    "- Multiple adding additional values to initial values\n",
    "\n",
    "I should make use of the \"+=\" operator. \n"
   ]
  },
  {
   "cell_type": "code",
   "execution_count": 122,
   "metadata": {
    "collapsed": true
   },
   "outputs": [],
   "source": [
    "# Better code given the \n",
    "from math import ceil\n",
    "\n",
    "def movie(card, ticket, perc):\n",
    "    ticket_num = 0         #initialize the number of tickets purchased\n",
    "    system_a_cost = 0      #initialize system a cost at 0\n",
    "    system_b_cost = card   #initialize system b at the cost of the card\n",
    "    \n",
    "    while ceil(system_b_cost) >= system_a_cost:\n",
    "        ticket_num += 1                                      #add another ticket\n",
    "        system_a_cost += ticket                              #calculte the cost with system a\n",
    "        system_b_cost += ticket*(perc**(ticket_num))         #calculate the cost of system b\n",
    "\n",
    "    return ticket_num, system_a_cost, system_b_cost, ceil(system_b_cost)"
   ]
  },
  {
   "cell_type": "code",
   "execution_count": 123,
   "metadata": {
    "collapsed": false
   },
   "outputs": [
    {
     "data": {
      "text/plain": [
       "(43, 645, 633.5453394053187, 634.0)"
      ]
     },
     "execution_count": 123,
     "metadata": {},
     "output_type": "execute_result"
    }
   ],
   "source": [
    "movie(500, 15, 0.9)"
   ]
  },
  {
   "cell_type": "code",
   "execution_count": 124,
   "metadata": {
    "collapsed": false
   },
   "outputs": [
    {
     "data": {
      "text/plain": [
       "(24, 240, 234.5220853756332, 235.0)"
      ]
     },
     "execution_count": 124,
     "metadata": {},
     "output_type": "execute_result"
    }
   ],
   "source": [
    "movie(100, 10, 0.95)"
   ]
  },
  {
   "cell_type": "code",
   "execution_count": 125,
   "metadata": {
    "collapsed": false
   },
   "outputs": [
    {
     "data": {
      "text/plain": [
       "(2, 20, 18.525, 19.0)"
      ]
     },
     "execution_count": 125,
     "metadata": {},
     "output_type": "execute_result"
    }
   ],
   "source": [
    "movie(0, 10, 0.95)"
   ]
  },
  {
   "cell_type": "markdown",
   "metadata": {},
   "source": [
    "From https://stackoverflow.com/questions/823561/what-does-mean-in-python/823878\n",
    "\n",
    "a += b is essentially the same as a = a + b, except that:\n",
    "\n",
    "-  \"+\" always returns a newly allocated object, but += should (but doesn't have to) modify the object in-place if it's mutable (e.g. list or dict, but int and str are immutable).\n",
    "- In a = a + b, a is evaluated twice."
   ]
  },
  {
   "cell_type": "code",
   "execution_count": 131,
   "metadata": {
    "collapsed": false
   },
   "outputs": [
    {
     "name": "stdout",
     "output_type": "stream",
     "text": [
      "([0], [0])\n",
      "([0], [])\n"
     ]
    }
   ],
   "source": [
    "# two variables referring to the same list\n",
    "list1 = []\n",
    "list2 = list1\n",
    "\n",
    "# += modifies the object pointed to by list1 and list2\n",
    "list1 += [0]\n",
    "print(list1, list2)\n",
    "\n",
    "\n",
    "# + creates a new, independent object\n",
    "list1 = []\n",
    "list2 = list1\n",
    "list1 = list1 + [0]\n",
    "print(list1, list2)\n"
   ]
  },
  {
   "cell_type": "code",
   "execution_count": null,
   "metadata": {
    "collapsed": true
   },
   "outputs": [],
   "source": []
  }
 ],
 "metadata": {
  "kernelspec": {
   "display_name": "Python 2",
   "language": "python",
   "name": "python2"
  },
  "language_info": {
   "codemirror_mode": {
    "name": "ipython",
    "version": 2
   },
   "file_extension": ".py",
   "mimetype": "text/x-python",
   "name": "python",
   "nbconvert_exporter": "python",
   "pygments_lexer": "ipython2",
   "version": "2.7.13"
  }
 },
 "nbformat": 4,
 "nbformat_minor": 2
}
